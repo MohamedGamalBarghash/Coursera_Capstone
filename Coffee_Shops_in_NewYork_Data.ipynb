{
 "cells": [
  {
   "cell_type": "markdown",
   "metadata": {},
   "source": [
    "# Capstone Project - Cafes in New York"
   ]
  },
  {
   "cell_type": "markdown",
   "metadata": {},
   "source": [
    "## Data"
   ]
  },
  {
   "cell_type": "markdown",
   "metadata": {},
   "source": [
    "##### A description of the data: the data used to solve this problem is geolocation data collected from FourSquare. Data is a single dataframe, containing at least a location of the coffee. Explanation of the location data is a standard tuple (Latitude, Longitude). Some other metadata like name, address and so on is also collected, but let us discuss that they are not absolutely necessary for the analysis. Example of the data:"
   ]
  },
  {
   "cell_type": "code",
   "execution_count": 3,
   "metadata": {},
   "outputs": [
    {
     "data": {
      "text/html": [
       "<div>\n",
       "<style scoped>\n",
       "    .dataframe tbody tr th:only-of-type {\n",
       "        vertical-align: middle;\n",
       "    }\n",
       "\n",
       "    .dataframe tbody tr th {\n",
       "        vertical-align: top;\n",
       "    }\n",
       "\n",
       "    .dataframe thead th {\n",
       "        text-align: right;\n",
       "    }\n",
       "</style>\n",
       "<table border=\"1\" class=\"dataframe\">\n",
       "  <thead>\n",
       "    <tr style=\"text-align: right;\">\n",
       "      <th></th>\n",
       "      <th>Name</th>\n",
       "      <th>Address</th>\n",
       "      <th>Latitude</th>\n",
       "      <th>Longitude</th>\n",
       "      <th>City</th>\n",
       "      <th>Country</th>\n",
       "    </tr>\n",
       "  </thead>\n",
       "  <tbody>\n",
       "    <tr>\n",
       "      <th>0</th>\n",
       "      <td>Special $1 Coffee &amp; Doughnut Cart</td>\n",
       "      <td>Broadway</td>\n",
       "      <td>40.724252</td>\n",
       "      <td>-73.997709</td>\n",
       "      <td>New York</td>\n",
       "      <td>United States</td>\n",
       "    </tr>\n",
       "    <tr>\n",
       "      <th>1</th>\n",
       "      <td>West Side Coffee Shop</td>\n",
       "      <td>323 Church St</td>\n",
       "      <td>40.720174</td>\n",
       "      <td>-74.003915</td>\n",
       "      <td>New York</td>\n",
       "      <td>United States</td>\n",
       "    </tr>\n",
       "    <tr>\n",
       "      <th>2</th>\n",
       "      <td>Gregorys Coffee</td>\n",
       "      <td>649 Broadway</td>\n",
       "      <td>40.726889</td>\n",
       "      <td>-73.995828</td>\n",
       "      <td>New York</td>\n",
       "      <td>United States</td>\n",
       "    </tr>\n",
       "    <tr>\n",
       "      <th>3</th>\n",
       "      <td>Coffee Wagon</td>\n",
       "      <td>Hudson and King</td>\n",
       "      <td>40.728231</td>\n",
       "      <td>-74.005783</td>\n",
       "      <td>New York</td>\n",
       "      <td>United States</td>\n",
       "    </tr>\n",
       "    <tr>\n",
       "      <th>4</th>\n",
       "      <td>Peter &amp; Jenny's Adorable Coffee Cart</td>\n",
       "      <td>NaN</td>\n",
       "      <td>40.725222</td>\n",
       "      <td>-73.996851</td>\n",
       "      <td>New York</td>\n",
       "      <td>United States</td>\n",
       "    </tr>\n",
       "  </tbody>\n",
       "</table>\n",
       "</div>"
      ],
      "text/plain": [
       "                                   Name          Address   Latitude  \\\n",
       "0     Special $1 Coffee & Doughnut Cart         Broadway  40.724252   \n",
       "1                 West Side Coffee Shop    323 Church St  40.720174   \n",
       "2                       Gregorys Coffee     649 Broadway  40.726889   \n",
       "3                          Coffee Wagon  Hudson and King  40.728231   \n",
       "4  Peter & Jenny's Adorable Coffee Cart              NaN  40.725222   \n",
       "\n",
       "   Longitude      City        Country  \n",
       "0 -73.997709  New York  United States  \n",
       "1 -74.003915  New York  United States  \n",
       "2 -73.995828  New York  United States  \n",
       "3 -74.005783  New York  United States  \n",
       "4 -73.996851  New York  United States  "
      ]
     },
     "execution_count": 3,
     "metadata": {},
     "output_type": "execute_result"
    }
   ],
   "source": [
    "csv_file.head()"
   ]
  },
  {
   "cell_type": "markdown",
   "metadata": {},
   "source": [
    "##### Data will be used in the following way: tourists will know the place of the coffee shop on the map and help themselves go to a place of their choosing."
   ]
  }
 ],
 "metadata": {
  "kernelspec": {
   "display_name": "Python 3",
   "language": "python",
   "name": "python3"
  },
  "language_info": {
   "codemirror_mode": {
    "name": "ipython",
    "version": 3
   },
   "file_extension": ".py",
   "mimetype": "text/x-python",
   "name": "python",
   "nbconvert_exporter": "python",
   "pygments_lexer": "ipython3",
   "version": "3.7.3"
  }
 },
 "nbformat": 4,
 "nbformat_minor": 4
}
